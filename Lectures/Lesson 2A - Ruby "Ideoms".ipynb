{
 "cells": [
  {
   "cell_type": "markdown",
   "metadata": {},
   "source": [
    "# Ideoms\n",
    "\n",
    "Just as we have ideoms in our spoken language, there are ideoms in programming languages too.\n",
    "\n",
    "In English, we say \"you're pulling my leg!\"  .... for non-English speakers, that sentence makes no sense at all!\n",
    "\n",
    "In Spanish, you say \"eso pan comido!\"  ... I promise you, I didn't understand that the first time I heard it :-)\n",
    "\n",
    "Ideoms are not only \"flowers\" in a language, but are often used to express something complex using very few words.  This is also why they are used in programming!  The only way to learn ideoms is to study them.  That's what we will do now.\n",
    "\n",
    "\n"
   ]
  },
  {
   "cell_type": "markdown",
   "metadata": {},
   "source": [
    "# Ideom 1:  set a value if it doesn't already have a value\n",
    "\n",
    "Sometimes you only want to set the value of a variable if it isn't already set.  You can do this with a very simple ideom.  (there's a similar ideom for Arrays - only add an element if it isn't already there)"
   ]
  },
  {
   "cell_type": "code",
   "execution_count": 1,
   "metadata": {},
   "outputs": [
    {
     "name": "stdout",
     "output_type": "stream",
     "text": [
      "hello\n",
      "goodbye\n",
      "\n",
      "[\"manzana\", \"uva\", \"zitrone\"]\n",
      "[\"manzana\", \"uva\", \"zitrone\", \"limon\"]\n"
     ]
    }
   ],
   "source": [
    "x = \"hello\"\n",
    "\n",
    "\n",
    "# long form of the ideom\n",
    "#       if x == nil || x == false       #|| es \"or\"\n",
    "#            x = \"goodbye\"\n",
    "#       end\n",
    "#\n",
    "# short form\n",
    "#       x ||= \"goodbye\"\n",
    "\n",
    "x ||= \"goodbye\"   # \"x or equals value\". Vamos que haces que x pase a ser goodbye solo si x no tiene un valor previamente (vamos, x==nil o x==false)\n",
    "puts x\n",
    "\n",
    "x = nil\n",
    "\n",
    "x ||= \"goodbye\" #Vamos que haces que x pase a ser goodbye solo si x no tiene un valor previamente (vamos, x==nil o x==false)\n",
    "puts x\n",
    "puts\n",
    "\n",
    "\n",
    "frutas = [\"manzana\", \"uva\", \"zitrone\"]\n",
    "frutas |= [\"manzana\"]   # add if manzana is not in the list\n",
    "puts frutas\n",
    "frutas |= [\"limon\"]   # add if limon is not in the list\n",
    "puts frutas\n"
   ]
  },
  {
   "cell_type": "markdown",
   "metadata": {},
   "source": [
    "# Ideom 2:  packing and unpacking arrays with \"*\""
   ]
  },
  {
   "cell_type": "code",
   "execution_count": 2,
   "metadata": {},
   "outputs": [
    {
     "name": "stdout",
     "output_type": "stream",
     "text": [
      "one\n",
      "[\"two\", \"three\"]\n",
      "\n",
      "Ruby\n",
      "makes\n",
      "[\"me\", \"happy\"]\n",
      "\n",
      "strawberry\n",
      "blueberry\n",
      "frankenberry\n",
      "raspberry\n"
     ]
    }
   ],
   "source": [
    "first, *rest = [\"one\", \"two\", \"three\"] #* significa que coge el resto\n",
    "puts first\n",
    "puts rest\n",
    "puts\n",
    "\n",
    "\n",
    "a,b,*arr = %w{Ruby makes me happy} \n",
    "puts a\n",
    "puts b\n",
    "puts arr\n",
    "puts\n",
    "\n",
    "\n",
    "def trythis (*firstword, lastword)  # it works the other way too!  pack the first, then take the last\n",
    "  firstword.each do |word|\n",
    "    puts word + lastword\n",
    "  end\n",
    "  return nil\n",
    "end\n",
    "\n",
    "trythis(\"straw\", \"blue\", \"franken\", \"rasp\", \"berry\")"
   ]
  },
  {
   "cell_type": "markdown",
   "metadata": {},
   "source": [
    "\n",
    "# Ideom 3:  Blocks, Procs, and Lambdas\n",
    "\n",
    "It is VERY common in Ruby to pass functions into other functions (in fact, you have already been doing this, but you might not have realized it!  for example, with \"a.each\"!)  \n",
    "\n",
    "\n",
    "These \"lambdas\" are often put into variables. Un lambda permite poner una función entera en una variable y se la puedes pasar a otra función.\n",
    "\n",
    "When a block is passed into a function, you can execute the incoming code using the command \"yield\", followed by whatever arguments are necessary\n",
    "\n",
    "Procs are very similar to lambdas, but we wont study them in this class.  If you are interested, you can study on your own to learn [the difference beween a \"block\", a \"Proc\" and a \"lambda\"](http://awaxman11.github.io/blog/2013/08/05/what-is-the-difference-between-a-block/)"
   ]
  },
  {
   "cell_type": "code",
   "execution_count": 3,
   "metadata": {},
   "outputs": [
    {
     "name": "stdout",
     "output_type": "stream",
     "text": [
      "a lambda is a type of Proc\n",
      "\n",
      "my\n",
      "dog\n",
      "has\n",
      "fleas\n",
      "\n",
      "my\n",
      "dog\n",
      "has\n",
      "fleas\n",
      "\n",
      "pass data directly\n",
      "another way to pass directly\n",
      "\n",
      "put some data here\n",
      "\n",
      "the sum is 15\n",
      "the difference is 5\n"
     ]
    }
   ],
   "source": [
    "words = [\"my\", \"dog\", \"has\", \"fleas\"]\n",
    "\n",
    "myblock = lambda { |word|  puts word }   #la función que metes en lambda toma una palabra (word) y la imprime # this is the kind of code you put after listvariable.each, made into a variable\n",
    "puts \"a lambda is a type of #{myblock.class}\"\n",
    "puts \n",
    "\n",
    "\n",
    "# here we will do it the \"normal\" way\n",
    "words.each do |word|\n",
    "  puts word\n",
    "end\n",
    "puts\n",
    "\n",
    "\n",
    "#creo que esto es lo mismo que decir:\n",
    "#for word in words\n",
    "#  puts word\n",
    "#end\n",
    "\n",
    "\n",
    "# here we do it using a lambda\n",
    "words.each(&myblock) #está metiendo la lambda guardada en myblock a words.each.\n",
    "puts\n",
    "\n",
    "\n",
    "# you can also use the lambda directly\n",
    "myblock[\"pass data directly\"]\n",
    "myblock.call(\"another way to pass directly\")\n",
    "puts\n",
    "\n",
    "\n",
    "\n",
    "\n",
    "\n",
    "\n",
    "# ------------------------  how to use \"yield\"\n",
    "\n",
    "def i_accept_blocks\n",
    "  yield \"put some data here\"  #esto es el ¡¡¡¡input!!!! data para el lambda que pasas a la función i_accept_blocks. \"yield\" executes the incoming block.  this is like myblock.call(\"put data here\")\n",
    "end\n",
    "\n",
    "i_accept_blocks(&myblock) #myblock se ejecuta usando como input \"put some data here\"\n",
    "puts\n",
    "\n",
    "\n",
    "\n",
    "\n",
    "\n",
    "# -----------------------  an example of how lambdas provide flexibility!\n",
    "\n",
    "myadd = lambda {|a,b| puts \"the sum is #{a + b}\"}\n",
    "mysubtract = lambda {|a,b| puts \"the difference is #{a-b}\"}\n",
    "\n",
    "def i_do_any_math (x, y)\n",
    "  yield(x, y)\n",
    "end\n",
    "\n",
    "\n",
    "i_do_any_math(10, 5, &myadd) #10 se guarda en x, 5 se guarda en y. Yield pasa x e y (10 y 5) al lambda myadd, que los suma e imprime.\n",
    "i_do_any_math(10, 5, &mysubtract)"
   ]
  },
  {
   "cell_type": "markdown",
   "metadata": {},
   "source": [
    "# Ideom 4:  \"map\"   and  \"select\"\n",
    "\n",
    "Mapping isn't really a \"ruby ideom\" - you can do the same thing in Perl! - but it is quite frequently used!\n",
    "\"map\" takes an array and returns an array, where every element of the array has been passed through a function.\n",
    "\n",
    "The select function is similar in its structre - it is used to select a subset from an array.\n",
    "\n",
    "They look like this:\n"
   ]
  },
  {
   "cell_type": "code",
   "execution_count": 4,
   "metadata": {},
   "outputs": [
    {
     "name": "stdout",
     "output_type": "stream",
     "text": [
      "[50, 60, 70, 80]\n",
      "[500, 600, nil, 700, 800, nil]\n",
      "[500, 600, 700, 800]\n",
      "[700, 800]\n"
     ]
    }
   ],
   "source": [
    "puts [5,6,7,8].map{|x| x*10} #map coge cada individuo del array y luego se multiplica por 10. \n",
    "\n",
    "# or for more complex functions\n",
    "myarray = [5,6,\"not_a_number\",7,8,\"not_a_number\"]\n",
    "newarray = myarray.map do |x|\n",
    "  next if x.is_a?(String) #skip elements that are strings\n",
    "  x*100 #esto es lo que se guarda\n",
    "end\n",
    "puts newarray\n",
    "#cuando usas map el array de entrada y el de salida tienen el mismo número de elemntos. \n",
    "#Por eso cuando te saltas las strings del input en el output pone nil\n",
    "\n",
    "\n",
    "\n",
    "\n",
    "#mira qué útil para eliminar nil.\n",
    "newarray = newarray.compact  # remove nil values\n",
    "puts newarray\n",
    "\n",
    "highnumbers = newarray.select{|x| x > 600}  # select only those greater than 600\n",
    "puts highnumbers"
   ]
  },
  {
   "cell_type": "markdown",
   "metadata": {},
   "source": [
    "# Ideom 5:  multiple variable assignments\n",
    "\n",
    "You can assign multiple  values to multiple variables at the same time:\n"
   ]
  },
  {
   "cell_type": "code",
   "execution_count": 5,
   "metadata": {},
   "outputs": [
    {
     "name": "stdout",
     "output_type": "stream",
     "text": [
      "[1, 2, 3]\n",
      "123\n",
      "1\t2\t3\n",
      "2\t1\t3\n"
     ]
    }
   ],
   "source": [
    "a, b, c = 1, 2, 3\n",
    "puts [a,b,c]\n",
    "\n",
    "# prettier...\n",
    "puts [a,b,c].join  # by default, they are simply joined together\n",
    "\n",
    "puts [a,b,c].join(\"\\t\")  # the join function takes an argument of the character to put between each element (a \"tab\")\n",
    "\n",
    "a, b = b, a  # swap two values\n",
    "puts [a,b,c].join(\"\\t\")\n"
   ]
  },
  {
   "cell_type": "markdown",
   "metadata": {},
   "source": [
    "# Ideom 6:  cool \"Enumerable\" functions\n",
    "\n",
    "Enumerable es la parent class de cosas como los arrays.\n",
    "\n",
    "Data-types like Arrays are what Ruby calls \"Enumerables\".  There are many cool things to do with Enumerables!  Here are some examples.\n",
    "\n"
   ]
  },
  {
   "cell_type": "code",
   "execution_count": 6,
   "metadata": {},
   "outputs": [
    {
     "name": "stdout",
     "output_type": "stream",
     "text": [
      "[\"gato\", \"perro\", \"vaca\", \"cabra\"]\n",
      "\n",
      "       sample\n",
      "cabra\n",
      "gato\n",
      "vaca\n",
      "\n",
      "       any?\n",
      "true\n",
      "false\n",
      "\n",
      "        any with block\n",
      "true\n",
      "false\n",
      "\n",
      "      include\n",
      "true\n"
     ]
    }
   ],
   "source": [
    "animals = %w{gato perro vaca cabra}  # remember this is a way to auto-quote things when creating an array\n",
    "puts animals\n",
    "puts\n",
    "\n",
    "puts \"       sample\"\n",
    "puts animals.sample  # sample picks one at random\n",
    "puts animals.sample  # sample picks one at random\n",
    "puts animals.sample  # sample picks one at random\n",
    "puts\n",
    "\n",
    "puts \"       any?\"\n",
    "puts animals.any?   # does the array have any elements?\n",
    "plants = []\n",
    "puts plants.any?\n",
    "puts\n",
    "\n",
    "puts \"        any with block\"\n",
    "puts animals.any? {|animal| animal.match(/ca/)}  # any? also takes a lambda!  Any animals with \"ca\" in their name?\n",
    "puts animals.any? {|animal| animal.match(/gr/)}  # any? also takes a lambda!  Any animals with \"ca\" in their name?\n",
    "puts\n",
    "\n",
    "puts \"      include\"\n",
    "puts animals.include?(\"gato\")"
   ]
  }
 ],
 "metadata": {
  "kernelspec": {
   "display_name": "Ruby 2.5.1",
   "language": "ruby",
   "name": "ruby"
  },
  "language_info": {
   "file_extension": ".rb",
   "mimetype": "application/x-ruby",
   "name": "ruby",
   "version": "2.5.1"
  }
 },
 "nbformat": 4,
 "nbformat_minor": 2
}
